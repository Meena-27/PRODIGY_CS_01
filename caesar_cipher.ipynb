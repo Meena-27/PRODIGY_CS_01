{
  "nbformat": 4,
  "nbformat_minor": 0,
  "metadata": {
    "colab": {
      "provenance": [],
      "authorship_tag": "ABX9TyPi3GoBCZWUIlFEjsBodlm6",
      "include_colab_link": true
    },
    "kernelspec": {
      "name": "python3",
      "display_name": "Python 3"
    },
    "language_info": {
      "name": "python"
    }
  },
  "cells": [
    {
      "cell_type": "markdown",
      "metadata": {
        "id": "view-in-github",
        "colab_type": "text"
      },
      "source": [
        "<a href=\"https://colab.research.google.com/github/Meena-27/PRODIGY_CS_01/blob/main/caesar_cipher.ipynb\" target=\"_parent\"><img src=\"https://colab.research.google.com/assets/colab-badge.svg\" alt=\"Open In Colab\"/></a>"
      ]
    },
    {
      "cell_type": "code",
      "execution_count": 1,
      "metadata": {
        "colab": {
          "base_uri": "https://localhost:8080/"
        },
        "id": "a8O5cnSybPsO",
        "outputId": "d68a4061-6503-4db2-eb1d-36fca36faf2c"
      },
      "outputs": [
        {
          "output_type": "stream",
          "name": "stdout",
          "text": [
            "Enter your message: all is well\n",
            "Enter the shift value (positive integer): 3\n",
            "Encrypted message: doo lv zhoo\n",
            "Decrypted message: all is well\n"
          ]
        }
      ],
      "source": [
        "def caesar_cipher(text, shift, decrypt=False):\n",
        "    result = ''\n",
        "    for char in text:\n",
        "        if char.isalpha():\n",
        "            shift_amount = shift\n",
        "            if decrypt:\n",
        "                shift_amount = -shift_amount\n",
        "            shifted_char = chr(((ord(char) - ord('a' if char.islower() else 'A') + shift_amount) % 26) + ord('a' if char.islower() else 'A'))\n",
        "            result += shifted_char\n",
        "        else:\n",
        "            result += char\n",
        "    return result\n",
        "\n",
        "def main():\n",
        "    message = input(\"Enter your message: \")\n",
        "    shift = int(input(\"Enter the shift value (positive integer): \"))\n",
        "\n",
        "    encrypted_message = caesar_cipher(message, shift)\n",
        "    print(\"Encrypted message:\", encrypted_message)\n",
        "\n",
        "    decrypted_message = caesar_cipher(encrypted_message, shift, decrypt=True)\n",
        "    print(\"Decrypted message:\", decrypted_message)\n",
        "\n",
        "if __name__ == \"__main__\":\n",
        "    main()\n"
      ]
    }
  ]
}